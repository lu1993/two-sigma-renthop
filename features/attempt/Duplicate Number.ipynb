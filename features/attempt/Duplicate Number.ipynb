{
 "cells": [
  {
   "cell_type": "code",
   "execution_count": null,
   "metadata": {
    "collapsed": true
   },
   "outputs": [],
   "source": [
    "import pandas as pd\n",
    "import numpy as np\n",
    "train_data = pd.read_json('../input/train.json')\n",
    "test_data = pd.read_json('../input/test.json')\n",
    "full_data = pd.concat([train_data,test_data])\n",
    "train_data['target'] = train_data['interest_level'].apply(lambda x: 0 if x=='low' else 1 if x=='medium' else 2)\n",
    "train_data['low'] = train_data['interest_level'].apply(lambda x: 1 if x=='low' else 0)\n",
    "train_data['medium'] = train_data['interest_level'].apply(lambda x: 1 if x=='medium' else 0)\n",
    "train_data['high'] = train_data['interest_level'].apply(lambda x: 1 if x=='high' else 0)"
   ]
  },
  {
   "cell_type": "markdown",
   "metadata": {},
   "source": [
    "#### find the best criterion for duplicates using cross validatiaon"
   ]
  },
  {
   "cell_type": "code",
   "execution_count": null,
   "metadata": {
    "collapsed": true
   },
   "outputs": [],
   "source": [
    "# candiates: 'price', 'latitude', 'longitude', 'bathrooms','bedrooms', 'street_address', 'building_id'"
   ]
  },
  {
   "cell_type": "code",
   "execution_count": null,
   "metadata": {
    "collapsed": true
   },
   "outputs": [],
   "source": [
    "%matplotlib inline\n",
    "import matplotlib.pylab as plt\n",
    "import numpy as np\n",
    "import pandas as pd\n",
    "import statsmodels.api as sm\n",
    "import statsmodels.formula.api as smf\n",
    "from scipy import stats\n",
    "from sklearn.linear_model import LogisticRegression\n",
    "from sklearn.preprocessing import LabelBinarizer\n",
    "from sklearn.model_selection import StratifiedKFold\n",
    "import itertools as itertools\n",
    "from sklearn.metrics import log_loss"
   ]
  },
  {
   "cell_type": "code",
   "execution_count": null,
   "metadata": {
    "collapsed": true
   },
   "outputs": [],
   "source": [
    "def get_skf_indexes(df, target, kfold=4):\n",
    "    X = df.values\n",
    "    y = df[target].values\n",
    "    skf = StratifiedKFold(n_splits=kfold);\n",
    "    skf.get_n_splits(X, y);\n",
    "    indexes = [[],[]]\n",
    "    for train_index, test_index in skf.split(X, y):\n",
    "        indexes[0].append(train_index) # Training indexes\n",
    "        indexes[1].append(test_index) # test indexes\n",
    "    return indexes"
   ]
  },
  {
   "cell_type": "code",
   "execution_count": null,
   "metadata": {
    "collapsed": true
   },
   "outputs": [],
   "source": [
    "def get_lr_perf(df_train, df_test, feature='__to_check', target='target', n_quantile=20):\n",
    "    results = {}\n",
    "    # Inputs\n",
    "    xtrain = df_train[feature].values.reshape(-1,1)\n",
    "    ytrain = df_train[target].values\n",
    "    xtest = df_test[feature].values.reshape(-1,1)\n",
    "    ytest = df_test[target].values\n",
    "    # Evaluation as a single feature\n",
    "    lr = LogisticRegression()\n",
    "    lr.fit(xtrain, ytrain)\n",
    "    yptrain = lr.predict_proba(xtrain)\n",
    "    yptest = lr.predict_proba(xtest)\n",
    "    results['train.num'] = np.round(log_loss(ytrain, yptrain), 6)\n",
    "    results['test.num'] = np.round(log_loss(ytest, yptest), 6)\n",
    "    # Evaluation as a categorical feature using quantile buckets\n",
    "    bins = np.unique(np.percentile(xtrain, np.arange(n_quantile, 100, n_quantile)))\n",
    "    xtrainq = np.digitize(xtrain, bins)\n",
    "    xtestq = np.digitize(xtest, bins)\n",
    "    lb = LabelBinarizer()\n",
    "    x1 = lb.fit_transform(xtrainq)\n",
    "    x2 = lb.transform(xtestq)\n",
    "    lr.fit(x1, ytrain);\n",
    "    yptrain = lr.predict_proba(x1)\n",
    "    yptest = lr.predict_proba(x2)\n",
    "    results['train.cat'] = np.round(log_loss(ytrain, yptrain), 6)\n",
    "    results['test.cat'] = np.round(log_loss(ytest, yptest), 6)\n",
    "    return results"
   ]
  },
  {
   "cell_type": "code",
   "execution_count": null,
   "metadata": {
    "collapsed": true
   },
   "outputs": [],
   "source": [
    "# number of duplicates, boolean for duplicates \n",
    "def duplicate(X,columns):\n",
    "    dup_data = X[X.duplicated(columns,keep=False)]\n",
    "    dup_data = dup_data.sort_values(columns,ascending=[True]*len(columns))\n",
    "    keep = dup_data.drop_duplicates(columns,keep='first')\n",
    "    \n",
    "    X['has_dup'] = [0]*X.shape[0]\n",
    "    X['num_dup'] = [1]*X.shape[0]\n",
    "    \n",
    "    for i in range(keep.shape[0]):\n",
    "        df = keep.iloc[i]\n",
    "        dup_df = X[(X[columns] == df[columns]).sum(axis=1) == len(columns)]\n",
    "        X.loc[dup_df.index,'has_dup'] = [1]*dup_df.shape[0]\n",
    "        X.loc[dup_df.index,'num_dup'] = [dup_df.shape[0]]*dup_df.shape[0]\n",
    "        \n",
    "    return X"
   ]
  },
  {
   "cell_type": "code",
   "execution_count": null,
   "metadata": {
    "collapsed": true
   },
   "outputs": [],
   "source": [
    "# all combinations of features\n",
    "import itertools\n",
    "COLUMNS = ['price', 'latitude', 'longitude', 'bathrooms','bedrooms', 'street_address', 'building_id']\n",
    "column_list = []\n",
    "for r in range(len(COLUMNS)):\n",
    "    for i in itertools.combinations(COLUMNS, (r+1)):\n",
    "        print i\n",
    "        column_list.append(i)\n",
    "len(column_list) # 127"
   ]
  },
  {
   "cell_type": "code",
   "execution_count": null,
   "metadata": {
    "collapsed": true
   },
   "outputs": [],
   "source": [
    "# Stratified kfold\n",
    "idx_train, idx_test = get_skf_indexes(train_data, 'target', kfold=4) \n",
    "\n",
    "# Get results\n",
    "Y = pd.DataFrame()\n",
    "\n",
    "for columns in column_list:\n",
    "    train_data = duplicate(train_data, columns)\n",
    "    for iper,(i_train,i_test) in enumerate(zip(idx_train,idx_test)):\n",
    "        print(iper)\n",
    "        df_train = train_data.iloc[i_train, :].copy()\n",
    "        df_test = train_data.iloc[i_test, :].copy()\n",
    "\n",
    "        results = get_lr_perf(df_train, df_test, feature='num_dup', target='target', n_quantile=20)\n",
    "        results.update({'fold': iper, 'columns': columns})\n",
    "        Y =  Y.append(pd.DataFrame(pd.Series(results)).transpose())\n",
    "    \n",
    "for i in ['train.cat', 'train.num', 'test.cat', 'test.num']:\n",
    "    Y[i] = Y[i].astype(float)"
   ]
  },
  {
   "cell_type": "code",
   "execution_count": null,
   "metadata": {
    "collapsed": true
   },
   "outputs": [],
   "source": []
  }
 ],
 "metadata": {
  "kernelspec": {
   "display_name": "Python 2",
   "language": "python",
   "name": "python2"
  },
  "language_info": {
   "codemirror_mode": {
    "name": "ipython",
    "version": 2
   },
   "file_extension": ".py",
   "mimetype": "text/x-python",
   "name": "python",
   "nbconvert_exporter": "python",
   "pygments_lexer": "ipython2",
   "version": "2.7.13"
  }
 },
 "nbformat": 4,
 "nbformat_minor": 2
}
