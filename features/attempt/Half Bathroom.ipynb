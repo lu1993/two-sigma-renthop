{
 "cells": [
  {
   "cell_type": "code",
   "execution_count": null,
   "metadata": {
    "collapsed": true
   },
   "outputs": [],
   "source": [
    "#### uninteresting half bathrooms"
   ]
  },
  {
   "cell_type": "code",
   "execution_count": null,
   "metadata": {
    "collapsed": true
   },
   "outputs": [],
   "source": [
    "df['half_bathrooms'] = ((np.round(df.bathrooms) - df.bathrooms)!=0).astype(float) # Half bathrooms? 1.5, 2.5, 3.5...\n",
    "df['bathrooms'] = df.bathrooms.clip(0,4) # Reduce outlier effects"
   ]
  },
  {
   "cell_type": "code",
   "execution_count": null,
   "metadata": {
    "collapsed": true
   },
   "outputs": [],
   "source": [
    "# Let's demonstrate the half bathrooms unininterest from a statistical point of view. \n",
    "# We'll fit two models with and without using the half bathrooms boolean variable. \n",
    "# I'll use a likelihood ratio test to demonstrate that the model including the feature has better fit:"
   ]
  },
  {
   "cell_type": "code",
   "execution_count": null,
   "metadata": {
    "collapsed": true
   },
   "outputs": [],
   "source": [
    "# Build two models with and without 'half_bathrooms' feature\n",
    "formula1 = 'response ~ bathrooms'\n",
    "formula2 = 'response ~ bathrooms + half_bathrooms'\n",
    "model1 = smf.glm(formula=formula1, data=df, family=sm.families.Binomial())\n",
    "model2 = smf.glm(formula=formula2, data=df, family=sm.families.Binomial())\n",
    "result1 = model1.fit()\n",
    "result2 = model2.fit()\n",
    "# Likelihood ratio test\n",
    "llf_1 = result1.llf\n",
    "llf_2 = result2.llf\n",
    "df_1 = result1.df_resid \n",
    "df_2 = result2.df_resid \n",
    "lrdf = (df_1 - df_2)\n",
    "lrstat = -2*(llf_1 - llf_2)\n",
    "lr_pvalue = stats.chi2.sf(lrstat, df=lrdf)\n",
    "# Print results\n",
    "print(formula1)\n",
    "print(result1.summary())\n",
    "print(formula2)\n",
    "print(result2.summary())\n",
    "print('Likelihood ratio test', lr_pvalue)"
   ]
  },
  {
   "cell_type": "code",
   "execution_count": null,
   "metadata": {
    "collapsed": true
   },
   "outputs": [],
   "source": [
    "x = pd.crosstab(train_data.bathrooms, train_data.interest_level)[['low', 'medium', 'high']]\n",
    "x.div(x.sum(1), 0).plot(kind='bar', color=['red', 'yellow', 'green'], stacked=True)"
   ]
  }
 ],
 "metadata": {
  "kernelspec": {
   "display_name": "Python 2",
   "language": "python",
   "name": "python2"
  },
  "language_info": {
   "codemirror_mode": {
    "name": "ipython",
    "version": 2
   },
   "file_extension": ".py",
   "mimetype": "text/x-python",
   "name": "python",
   "nbconvert_exporter": "python",
   "pygments_lexer": "ipython2",
   "version": "2.7.13"
  }
 },
 "nbformat": 4,
 "nbformat_minor": 2
}
