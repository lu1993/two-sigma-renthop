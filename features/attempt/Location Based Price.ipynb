{
 "cells": [
  {
   "cell_type": "code",
   "execution_count": null,
   "metadata": {
    "collapsed": true,
    "deletable": true,
    "editable": true
   },
   "outputs": [],
   "source": [
    "# use KNeighborsRegressor to predict price of an area, compute price/predicted price\n",
    "import pandas as pd\n",
    "train_data = pd.read_json('../input/train.json')\n",
    "test_data = pd.read_json('../input/test.json')\n",
    "full_data = pd.concat([train_data, test_data])"
   ]
  },
  {
   "cell_type": "code",
   "execution_count": null,
   "metadata": {
    "collapsed": true,
    "deletable": true,
    "editable": true
   },
   "outputs": [],
   "source": [
    "from sklearn.neighbors import KNeighborsRegressor\n",
    "model = KNeighborsRegressor(n_neighbors=300)\n",
    "price_df = pd.concat([train_data['bedrooms'],train_data['bathrooms'],train_data['latitude'],train_data['longitude'],train_data['price']], axis=1)\n",
    "model.fit(price_df.drop(['price'], axis=1), price_df['price'])"
   ]
  },
  {
   "cell_type": "code",
   "execution_count": null,
   "metadata": {
    "collapsed": true,
    "deletable": true,
    "editable": true
   },
   "outputs": [],
   "source": [
    "pred_price = model.predict(price_df.drop(['price'], axis=1))\n",
    "price_df['predicted_price'] = pd.DataFrame(pred_price, columns=['predicted_price'])\n",
    "price_df['pred_price_ratio'] = price_df['price'] / price_df['predicted_price']\n",
    "price_df['interest_level'] = train_data['interest_level']"
   ]
  },
  {
   "cell_type": "code",
   "execution_count": null,
   "metadata": {
    "collapsed": true,
    "deletable": true,
    "editable": true
   },
   "outputs": [],
   "source": [
    "import matplotlib.pyplot as plt\n",
    "import seaborn as sns\n",
    "new_price_df = price_df[price_df['pred_price_ratio'] < 4]\n",
    "plt.figure(figsize=(8,4))\n",
    "sns.violinplot(x='interest_level', y='pred_price_ratio', data=new_price_df)\n",
    "plt.xlabel('Interest level', fontsize=12)\n",
    "plt.ylabel('pred_price_ratio', fontsize=12)\n",
    "plt.show()"
   ]
  },
  {
   "cell_type": "code",
   "execution_count": null,
   "metadata": {
    "collapsed": true,
    "deletable": true,
    "editable": true
   },
   "outputs": [],
   "source": [
    "price_df = pd.concat([full_data['bedrooms'],full_data['bathrooms'],full_data['latitude'],full_data['longitude'],full_data['price']], axis=1)\n",
    "model.fit(price_df.drop(['price'], axis=1), price_df['price'])\n",
    "pred_price = model.predict(price_df.drop(['price'], axis=1))\n",
    "price_df['predicted_price'] = pd.DataFrame(pred_price, columns=['predicted_price'])\n",
    "price_df['pred_price_ratio'] = price_df['price'] / price_df['predicted_price']\n",
    "full_data['pred_price_ratio'] = price_df['pred_price_ratio']"
   ]
  }
 ],
 "metadata": {
  "kernelspec": {
   "display_name": "Python 2",
   "language": "python",
   "name": "python2"
  },
  "language_info": {
   "codemirror_mode": {
    "name": "ipython",
    "version": 2
   },
   "file_extension": ".py",
   "mimetype": "text/x-python",
   "name": "python",
   "nbconvert_exporter": "python",
   "pygments_lexer": "ipython2",
   "version": "2.7.13"
  }
 },
 "nbformat": 4,
 "nbformat_minor": 2
}
