{
 "cells": [
  {
   "cell_type": "code",
   "execution_count": null,
   "metadata": {
    "collapsed": true
   },
   "outputs": [],
   "source": [
    "# use stratified cv to select the optimal parameter to compute price per sqft"
   ]
  },
  {
   "cell_type": "code",
   "execution_count": null,
   "metadata": {
    "collapsed": true
   },
   "outputs": [],
   "source": [
    "%matplotlib inline\n",
    "import matplotlib.pylab as plt\n",
    "import numpy as np\n",
    "import pandas as pd\n",
    "import statsmodels.api as sm\n",
    "import statsmodels.formula.api as smf\n",
    "from scipy import stats\n",
    "from sklearn.linear_model import LogisticRegression\n",
    "from sklearn.preprocessing import LabelBinarizer\n",
    "from sklearn.model_selection import StratifiedKFold\n",
    "import itertools as itertools\n",
    "from sklearn.metrics import log_loss\n",
    "\n",
    "# stratefied k-fold\n",
    "def get_skf_indexes(df, target, kfold=4):\n",
    "    X = df.values\n",
    "    y = df[target].values\n",
    "    skf = StratifiedKFold(n_splits=4);\n",
    "    skf.get_n_splits(X, y);\n",
    "    indexes = [[],[]]\n",
    "    for train_index, test_index in skf.split(X, y):\n",
    "        indexes[0].append(train_index) # Training indexes\n",
    "        indexes[1].append(test_index) # test indexes\n",
    "    return indexes\n",
    "\n",
    "# logistic regression\n",
    "def get_lr_perf(df_train, df_test, feature='__to_check', target='response', n_quantile=20):\n",
    "    results = {}\n",
    "    # Inputs\n",
    "    xtrain = df_train[feature].values.reshape(-1,1)\n",
    "    ytrain = df_train[target].values\n",
    "    xtest = df_test[feature].values.reshape(-1,1)\n",
    "    ytest = df_test[target].values\n",
    "    # Evaluation as a single feature\n",
    "    lr = LogisticRegression()\n",
    "    lr.fit(xtrain, ytrain);\n",
    "    yptrain = lr.predict_proba(xtrain)\n",
    "    yptest = lr.predict_proba(xtest)\n",
    "    results['train.num'] = np.round(log_loss(ytrain, yptrain), 6)\n",
    "    results['test.num'] = np.round(log_loss(ytest, yptest), 6)\n",
    "    # Evaluation as a categorical feature using quantile buckets\n",
    "    bins = np.unique(np.percentile(xtrain, np.arange(n_quantile, 100, n_quantile)))\n",
    "    xtrainq = np.digitize(xtrain, bins)\n",
    "    xtestq = np.digitize(xtest, bins)\n",
    "    lb = LabelBinarizer()\n",
    "    x1 = lb.fit_transform(xtrainq)\n",
    "    x2 = lb.transform(xtestq)\n",
    "    lr.fit(x1, ytrain);\n",
    "    yptrain = lr.predict_proba(x1)\n",
    "    yptest = lr.predict_proba(x2)\n",
    "    results['train.cat'] = np.round(log_loss(ytrain, yptrain), 6)\n",
    "    results['test.cat'] = np.round(log_loss(ytest, yptest), 6)\n",
    "    return results"
   ]
  },
  {
   "cell_type": "code",
   "execution_count": null,
   "metadata": {
    "collapsed": true
   },
   "outputs": [],
   "source": [
    "train_data = pd.read_json('train.json')\n",
    "train_data['target'] = train_data['interest_level'].apply(lambda x: 0 if x=='low' else 1 if x=='medium' else 2)"
   ]
  },
  {
   "cell_type": "code",
   "execution_count": null,
   "metadata": {
    "collapsed": true
   },
   "outputs": [],
   "source": [
    "# Parameters to check\n",
    "AA = (0.1, 0.5, 1, 2)\n",
    "CC = ((0, 4), (0, 3), (1, 4), (1, 3), (0, 2))\n",
    "DD = ((0, 3), (0, 2), (1, 3), (1, 2))\n",
    "BB = (0, 0.25, 0.5, 1, 2)\n",
    "# Reduced set of parameters to run here\n",
    "AA = (0.5, 1, 2)\n",
    "CC = ((0, 4), (0, 3), (1, 4), (1, 3))\n",
    "DD = ((0, 3), (0, 2))\n",
    "BB = (0.25, 0.5, 1)"
   ]
  },
  {
   "cell_type": "code",
   "execution_count": null,
   "metadata": {
    "collapsed": true
   },
   "outputs": [],
   "source": [
    "# Stratified kfold\n",
    "idx_train, idx_test = get_skf_indexes(df, 'response', kfold=2) # kfold=4, set to 2 to quickly run here"
   ]
  },
  {
   "cell_type": "code",
   "execution_count": null,
   "metadata": {
    "collapsed": true
   },
   "outputs": [],
   "source": [
    "# Get results\n",
    "Y = pd.DataFrame()\n",
    "for iper, (i_train, i_test) in enumerate(zip(idx_train, idx_test)):\n",
    "    print(iper)\n",
    "    df_train = df.iloc[i_train, :].copy()\n",
    "    df_test = df.iloc[i_test, :].copy()\n",
    "    # For each parameter combination\n",
    "    for A, C, D, B in itertools.product(AA, CC, DD, BB):\n",
    "        df_train['__to_check'] = (df_train.price / (A + df_train.bedrooms.clip(C[0], C[1]) + B*df_train.bathrooms.clip(D[0], D[1]))).values\n",
    "        df_test['__to_check'] = (df_test.price / (A + df_test.bedrooms.clip(C[0], C[1]) + B*df_test.bathrooms.clip(D[0], D[1]))).values\n",
    "        results = get_lr_perf(df_train, df_test, feature='__to_check', target='response', n_quantile=20)\n",
    "        results.update({'fold': iper, 'params': {'A':A, 'B': B, 'C': C, 'D':D}})\n",
    "        Y =  Y.append(pd.DataFrame(pd.Series(results)).transpose())\n",
    "for i in ['train.cat', 'train.num', 'test.cat', 'test.num']:\n",
    "    Y[i] = Y[i].astype(float)"
   ]
  },
  {
   "cell_type": "code",
   "execution_count": null,
   "metadata": {
    "collapsed": true
   },
   "outputs": [],
   "source": [
    "# From these results we can conclude than the best proxy for price/sqft using price, bedrooms and bathrooms \n",
    "Y.sort_values('test.cat')"
   ]
  },
  {
   "cell_type": "code",
   "execution_count": null,
   "metadata": {
    "collapsed": true
   },
   "outputs": [],
   "source": [
    "# optimal parameters\n",
    "AA = (1)\n",
    "CC = ((1, 4))\n",
    "DD = ((0, 2))\n",
    "BB = (0.5)"
   ]
  },
  {
   "cell_type": "code",
   "execution_count": null,
   "metadata": {
    "collapsed": true
   },
   "outputs": [],
   "source": []
  }
 ],
 "metadata": {
  "kernelspec": {
   "display_name": "Python 2",
   "language": "python",
   "name": "python2"
  },
  "language_info": {
   "codemirror_mode": {
    "name": "ipython",
    "version": 2
   },
   "file_extension": ".py",
   "mimetype": "text/x-python",
   "name": "python",
   "nbconvert_exporter": "python",
   "pygments_lexer": "ipython2",
   "version": "2.7.13"
  }
 },
 "nbformat": 4,
 "nbformat_minor": 2
}
